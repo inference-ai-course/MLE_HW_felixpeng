{
 "cells": [
  {
   "cell_type": "markdown",
   "id": "269360ca",
   "metadata": {},
   "source": [
    "### Installing OpenAI Libraries and Setting up API Key"
   ]
  },
  {
   "cell_type": "code",
   "execution_count": null,
   "id": "fa59c6b0",
   "metadata": {},
   "outputs": [],
   "source": [
    "import sys\n",
    "!{sys.executable} -m pip install openai\n",
    "!{sys.executable} -m pip install python-dotenv\n",
    "\n",
    "import openai\n",
    "import os\n",
    "from dotenv import load_dotenv\n",
    "\n",
    "load_dotenv()\n",
    "api_key = os.getenv(\"OPENAI_API_KEY\")\n",
    "\n",
    "# Initialize the OpenAI client\n",
    "client = openai.OpenAI(api_key=api_key)"
   ]
  },
  {
   "cell_type": "markdown",
   "id": "f1d892e8",
   "metadata": {},
   "source": [
    "### Function for Prompting GPT"
   ]
  },
  {
   "cell_type": "code",
   "execution_count": null,
   "id": "13514b16",
   "metadata": {},
   "outputs": [],
   "source": []
  }
 ],
 "metadata": {
  "kernelspec": {
   "display_name": "Python 3",
   "language": "python",
   "name": "python3"
  },
  "language_info": {
   "codemirror_mode": {
    "name": "ipython",
    "version": 3
   },
   "file_extension": ".py",
   "mimetype": "text/x-python",
   "name": "python",
   "nbconvert_exporter": "python",
   "pygments_lexer": "ipython3",
   "version": "3.12.1"
  }
 },
 "nbformat": 4,
 "nbformat_minor": 5
}
