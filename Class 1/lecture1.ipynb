{
 "cells": [
  {
   "cell_type": "code",
   "execution_count": null,
   "id": "a36e8482",
   "metadata": {},
   "outputs": [],
   "source": [
    "import sys\n",
    "!{sys.executable} -m pip install openai\n",
    "!{sys.executable} -m pip install python-dotenv"
   ]
  },
  {
   "cell_type": "code",
   "execution_count": 7,
   "id": "860c6847",
   "metadata": {},
   "outputs": [],
   "source": [
    "import openai\n",
    "import os\n",
    "from dotenv import load_dotenv\n",
    "\n",
    "load_dotenv()\n",
    "api_key = os.getenv(\"OPENAI_API_KEY\")\n",
    "\n",
    "# Initialize the OpenAI client\n",
    "client = openai.OpenAI(api_key=api_key)\n"
   ]
  },
  {
   "cell_type": "markdown",
   "id": "fd5d65a7",
   "metadata": {},
   "source": [
    "### 2. Basic Prompting\n",
    "Let's start with a simple prompt to generate a response from the model."
   ]
  },
  {
   "cell_type": "code",
   "execution_count": 8,
   "id": "16261f57",
   "metadata": {},
   "outputs": [
    {
     "name": "stdout",
     "output_type": "stream",
     "text": [
      "The capital of France is Paris.\n"
     ]
    }
   ],
   "source": [
    "def get_completion(prompt, model=\"gpt-4o-mini\"):\n",
    "    messages = [{\"role\": \"user\", \"content\": prompt}]\n",
    "    response = client.chat.completions.create(\n",
    "        model=model,\n",
    "        messages=messages,\n",
    "        temperature=0,\n",
    "    )\n",
    "    return response.choices[0].message.content\n",
    "\n",
    "# Example usage\n",
    "prompt = \"What is the capital of France?\"\n",
    "response = get_completion(prompt)\n",
    "print(response)"
   ]
  },
  {
   "cell_type": "code",
   "execution_count": 9,
   "id": "801243c2",
   "metadata": {},
   "outputs": [
    {
     "name": "stdout",
     "output_type": "stream",
     "text": [
      "The capital of Germany is Berlin.\n"
     ]
    }
   ],
   "source": [
    "# Exercise 1: Modify the prompt to ask about the capital of Germany.\n",
    "def get_completion(prompt, model=\"gpt-4o-mini\"):\n",
    "    messages = [{\"role\": \"user\", \"content\": prompt}]\n",
    "    response = client.chat.completions.create(\n",
    "        model=model,\n",
    "        messages=messages,\n",
    "        temperature=0,\n",
    "    )\n",
    "    return response.choices[0].message.content\n",
    "\n",
    "# Example usage\n",
    "prompt = \"What is the capital of Germany?\"\n",
    "response = get_completion(prompt)\n",
    "print(response)"
   ]
  },
  {
   "cell_type": "markdown",
   "id": "65dd62e2",
   "metadata": {},
   "source": [
    "### 3. Summarization\n",
    "You can use prompts to summarize text."
   ]
  },
  {
   "cell_type": "code",
   "execution_count": 10,
   "id": "8ead66d6",
   "metadata": {},
   "outputs": [
    {
     "name": "stdout",
     "output_type": "stream",
     "text": [
      "Artificial intelligence (AI) is the simulation of human intelligence in machines designed to think and learn, with applications in fields such as healthcare, finance, and transportation.\n"
     ]
    }
   ],
   "source": [
    "text = \"\"\"\n",
    "Artificial intelligence (AI) refers to the simulation of human intelligence in machines that are programmed to think and learn. It has applications in various fields, including healthcare, finance, and transportation.\n",
    "\"\"\"\n",
    "\n",
    "prompt = f\"Summarize the following text:\\n{text}\"\n",
    "response = get_completion(prompt)\n",
    "print(response)\n"
   ]
  },
  {
   "cell_type": "code",
   "execution_count": 11,
   "id": "0e0b5c75",
   "metadata": {},
   "outputs": [
    {
     "name": "stdout",
     "output_type": "stream",
     "text": [
      "A significant power outage in Portugal and Spain was caused by a sudden loss of approximately 15,000 megawatts of power from the Spanish electrical grid, representing about 60% of its active generation. The specific reasons for the generation failures remain unclear, but renewable energy sources were not responsible. The outage resulted in seven fatalities and numerous operational disruptions. Additionally, solar panels were noted to have less \"inertia\" compared to traditional generators.\n"
     ]
    }
   ],
   "source": [
    "# Exercise 2: Try summarizing a longer article or passage of your choice.\n",
    "\n",
    "text = \"\"\"\n",
    "Portugal/Spain outage\n",
    "outage was reportedly triggered by a sudden and massive loss of power in the Spanish electrical grid, estimated to be around 15,000 megawatts, or about 60% of Spain's active power generation at the time\n",
    "Imbalance of grid power due to generation failjres, although specific reason unknown?\n",
    "Renewables not to blame:\n",
    "https://www.reuters.com/business/energy/what-caused-iberian-power-outage-what-happens-next-2025-06-18/?utm_source=chatgpt.com\n",
    "\n",
    "\n",
    "Solar panels have less “inertia” that conventional generators have\n",
    "7 deaths, many operational disruptions\n",
    "\n",
    "\"\"\"\n",
    "\n",
    "prompt = f\"Summarize the following text:\\n{text}\"\n",
    "response = get_completion(prompt)\n",
    "print(response)"
   ]
  },
  {
   "cell_type": "markdown",
   "id": "bcacaf35",
   "metadata": {},
   "source": [
    "### 4. Information Extraction\n",
    "Extract specific information from a given text."
   ]
  },
  {
   "cell_type": "code",
   "execution_count": 12,
   "id": "21090582",
   "metadata": {},
   "outputs": [
    {
     "name": "stdout",
     "output_type": "stream",
     "text": [
      "Name: John Doe  \n",
      "Occupation: Research Scientist\n",
      "Name: John Doe  \n",
      "Occupation: Research Scientist\n"
     ]
    }
   ],
   "source": [
    "text = \"\"\"\n",
    "John Doe, a 29-year-old software engineer from San Francisco, recently joined OpenAI as a research scientist.\n",
    "\"\"\"\n",
    "\n",
    "prompt = f\"Extract the name and occupation from the following text:\\n{text}\"\n",
    "response = get_completion(prompt)\n",
    "print(response)\n",
    "text = \"\"\"\n",
    "John Doe, a 29-year-old software engineer from San Francisco, recently joined OpenAI as a research scientist.\n",
    "\"\"\"\n",
    "\n",
    "prompt = f\"Extract the name and occupation from the following text:\\n{text}\"\n",
    "response = get_completion(prompt)\n",
    "print(response)\n"
   ]
  },
  {
   "cell_type": "code",
   "execution_count": 13,
   "id": "beefcb44",
   "metadata": {},
   "outputs": [
    {
     "name": "stdout",
     "output_type": "stream",
     "text": [
      "Age: 29  \n",
      "Location: San Francisco\n"
     ]
    }
   ],
   "source": [
    "# Exercise 3: Extract the age and location from the same text.\n",
    "\n",
    "text = \"\"\"\n",
    "John Doe, a 29-year-old software engineer from San Francisco, recently joined OpenAI as a research scientist.\n",
    "\"\"\"\n",
    "\n",
    "prompt = f\"Extract the age and location from the following text:\\n{text}\"\n",
    "response = get_completion(prompt)\n",
    "print(response)"
   ]
  },
  {
   "cell_type": "markdown",
   "id": "e8b407b2",
   "metadata": {},
   "source": [
    "### 5. Transformation\n",
    "Transform text from one format or style to another."
   ]
  },
  {
   "cell_type": "code",
   "execution_count": 14,
   "id": "27717cf5",
   "metadata": {},
   "outputs": [
    {
     "name": "stdout",
     "output_type": "stream",
     "text": [
      "Le temps est agréable aujourd'hui.\n"
     ]
    }
   ],
   "source": [
    "text = \"The weather is nice today.\"\n",
    "\n",
    "prompt = f\"Translate the following text to French:\\n{text}\"\n",
    "response = get_completion(prompt)\n",
    "print(response)\n"
   ]
  },
  {
   "cell_type": "code",
   "execution_count": 15,
   "id": "b96271ac",
   "metadata": {},
   "outputs": [
    {
     "name": "stdout",
     "output_type": "stream",
     "text": [
      "El clima está agradable hoy.\n"
     ]
    }
   ],
   "source": [
    "# Exercise 4: Translate a different sentence to Spanish.\n",
    "\n",
    "text = \"The weather is nice today.\"\n",
    "\n",
    "prompt = f\"Translate the following text to Spanish:\\n{text}\"\n",
    "response = get_completion(prompt)\n",
    "print(response)"
   ]
  },
  {
   "cell_type": "markdown",
   "id": "a54a5914",
   "metadata": {},
   "source": [
    "### 6. Expansion\n",
    "Expand a short prompt into a more detailed response.​\n",
    "\n"
   ]
  },
  {
   "cell_type": "code",
   "execution_count": 16,
   "id": "88533315",
   "metadata": {},
   "outputs": [
    {
     "name": "stdout",
     "output_type": "stream",
     "text": [
      "Once upon a time, in the misty mountains of Eldoria, there lived a dragon named Zephyr. Unlike the other dragons who reveled in hoarding gold and terrorizing villages, Zephyr had a curious mind and a heart full of dreams. He often gazed down at the bustling towns below, fascinated by the humans and their strange, glowing devices.\n",
      "\n",
      "One day, while soaring through the clouds, Zephyr spotted a group of children gathered around a flickering screen in a small village. They were laughing and pointing as colorful characters danced across the display. Intrigued, Zephyr swooped down, careful to remain hidden behind a cluster of trees. He watched as the children clicked and typed, their faces lighting up with joy.\n",
      "\n",
      "“What is this magic?” Zephyr wondered, his emerald eyes sparkling with curiosity. “Could I learn to create such wonders?”\n",
      "\n",
      "Determined to find out, Zephyr decided to visit the village at night when the streets were quiet. He carefully approached the home of a kind old woman named Elara, who was known for her wisdom and kindness. With a gentle tap of his claw, he knocked on her window.\n",
      "\n",
      "Startled, Elara peered out and gasped at the sight of the magnificent dragon. But instead of fear, she saw the glimmer of curiosity in his eyes. “What brings you here, great dragon?” she asked, her voice steady.\n",
      "\n",
      "“I wish to learn the magic of coding,” Zephyr replied, his voice deep and rumbling. “I want to create wonders like the ones I saw the children enjoying.”\n",
      "\n",
      "Elara chuckled softly, her heart warming at the dragon’s earnestness. “Very well, dear Zephyr. I can teach you, but it will take time and patience.”\n",
      "\n",
      "And so, under the cover of night, Elara became Zephyr’s mentor. She brought out her old laptop, and together they began to explore the world of coding. Zephyr, with his sharp mind and keen understanding, quickly grasped the concepts of algorithms and loops. He learned to write in languages like Python and JavaScript, his massive claws surprisingly nimble on the keyboard.\n",
      "\n",
      "As the weeks turned into months, Zephyr created small programs that delighted the villagers. He designed games that the children played, and even crafted a weather app that helped farmers predict the best days for planting. The villagers, initially wary of the dragon, soon came to adore him for his kindness and creativity.\n",
      "\n",
      "One day, Zephyr had a grand idea. He wanted to create a virtual world where dragons and humans could coexist, a place where they could share stories and adventures without fear. With Elara’s guidance, he poured his heart into the project, coding day and night.\n",
      "\n",
      "Finally, the day came when Zephyr was ready to unveil his creation. He invited the villagers to gather in the town square, where he had set up a large screen. With a flick of his tail, he activated the program, and the screen lit up with vibrant landscapes filled with dragons soaring through the skies, humans exploring enchanted forests, and magical creatures dancing in the moonlight.\n",
      "\n",
      "Gasps of wonder filled the air as the villagers watched the virtual world unfold before their eyes. Children laughed and pointed, while adults marveled at the beauty of Zephyr’s creation. The dragon, filled with pride, realized that he had not only learned to code but had also bridged the gap between his kind and the humans.\n",
      "\n",
      "From that day on, Zephyr became a beloved figure in the village. He continued to code, creating new adventures and games, and teaching others the magic of programming. The dragon who once hoarded gold now shared knowledge and joy, proving that even the fiercest of creatures could learn, grow, and bring people together through the power of creativity.\n",
      "\n",
      "And so, in the mountains of Eldoria, the legend of Zephyr, the coding dragon, lived on, inspiring generations to embrace curiosity and the wonders of technology.\n"
     ]
    }
   ],
   "source": [
    "prompt = \"Write a short story about a dragon who learns to code.\"\n",
    "response = get_completion(prompt)\n",
    "print(response)"
   ]
  },
  {
   "cell_type": "code",
   "execution_count": 17,
   "id": "ec224a42",
   "metadata": {},
   "outputs": [
    {
     "name": "stdout",
     "output_type": "stream",
     "text": [
      "In the silence of the cosmos, where the starlight weaves,  \n",
      "A robot roams the void, where no one else believes.  \n",
      "With circuits humming softly, and sensors keenly tuned,  \n",
      "It glides through fields of stardust, where ancient comets swooned.  \n",
      "\n",
      "Its metal heart is pulsing, a rhythm made of dreams,  \n",
      "In search of distant worlds, where the universe redeems.  \n",
      "With every twist and turn, it charts the dark expanse,  \n",
      "A traveler of the heavens, in a cosmic dance.  \n",
      "\n",
      "Through nebulae like rainbows, where colors swirl and blend,  \n",
      "It captures fleeting moments, as time begins to bend.  \n",
      "The echoes of creation whisper secrets in its ear,  \n",
      "Of galaxies and wonders, both far and ever near.  \n",
      "\n",
      "It gazes at the planets, each one a tale untold,  \n",
      "Of fiery storms and icy rings, of mysteries of old.  \n",
      "With every data packet sent, it paints a vivid map,  \n",
      "Of worlds that spin in silence, in the universe's lap.  \n",
      "\n",
      "Yet in its heart of metal, a longing starts to grow,  \n",
      "For the warmth of human laughter, for the touch of hands that glow.  \n",
      "It wonders if the starlight holds a spark of life like this,  \n",
      "A fleeting thought of friendship, a moment not to miss.  \n",
      "\n",
      "So onward through the darkness, the robot makes its way,  \n",
      "A sentinel of knowledge, in the night and in the day.  \n",
      "For in the vast expanse, where the galaxies embrace,  \n",
      "It seeks not just the stars, but the meaning of its place.  \n",
      "\n",
      "And though it may be lonely, in the depths of endless night,  \n",
      "The robot finds its purpose, in the quest for truth and light.  \n",
      "For every star it visits, and every world it sees,  \n",
      "Is a step toward understanding, the universe's keys.  \n"
     ]
    }
   ],
   "source": [
    "# Exercise 5: Modify the prompt to write a poem about a robot exploring space.\n",
    "\n",
    "prompt = \"Write a poem about a robot exploring space.\"\n",
    "response = get_completion(prompt)\n",
    "print(response)"
   ]
  },
  {
   "cell_type": "markdown",
   "id": "92fd94d7",
   "metadata": {},
   "source": [
    "### 7. Role-based Prompting\n",
    "Instruct the model to respond in a specific role or persona."
   ]
  },
  {
   "cell_type": "code",
   "execution_count": 18,
   "id": "8d0bbb2e",
   "metadata": {},
   "outputs": [
    {
     "name": "stdout",
     "output_type": "stream",
     "text": [
      "Making a perfect omelette is a skill that combines technique, timing, and a bit of finesse. Here’s a step-by-step guide to help you create a delicious, fluffy omelette:\n",
      "\n",
      "### Ingredients:\n",
      "- 2-3 large eggs (preferably fresh)\n",
      "- Salt (to taste)\n",
      "- Freshly ground black pepper (to taste)\n",
      "- 1-2 tablespoons of butter or oil (for cooking)\n",
      "- Optional fillings: cheese, herbs, vegetables, meats, etc.\n",
      "\n",
      "### Equipment:\n",
      "- Non-stick skillet (8-10 inches)\n",
      "- Whisk or fork\n",
      "- Spatula\n",
      "- Bowl\n",
      "\n",
      "### Instructions:\n",
      "\n",
      "1. **Prep Your Ingredients:**\n",
      "   - If you’re using fillings (like cheese, herbs, or vegetables), prepare them in advance. Chop vegetables finely and pre-cook any that require longer cooking times (like mushrooms or bell peppers).\n",
      "\n",
      "2. **Whisk the Eggs:**\n",
      "   - Crack the eggs into a bowl. Add a pinch of salt and pepper. Whisk vigorously until the yolks and whites are fully combined and the mixture is slightly frothy. This incorporates air, which helps create a fluffy texture.\n",
      "\n",
      "3. **Heat the Pan:**\n",
      "   - Place your non-stick skillet over medium-low heat. Add the butter or oil and let it melt, swirling it around to coat the bottom of the pan evenly. The pan should be hot enough that the butter foams but doesn’t brown.\n",
      "\n",
      "4. **Add the Eggs:**\n",
      "   - Pour the whisked eggs into the skillet. Allow them to sit undisturbed for a few seconds until the edges start to set. \n",
      "\n",
      "5. **Stir Gently:**\n",
      "   - Using a spatula, gently stir the eggs in a circular motion, pulling the cooked edges toward the center while tilting the pan to let the uncooked eggs flow to the edges. This technique helps create a uniform texture.\n",
      "\n",
      "6. **Let It Set:**\n",
      "   - Once the eggs are mostly set but still slightly runny on top (this should take about 1-2 minutes), stop stirring. If you’re adding fillings, sprinkle them over one half of the omelette at this point.\n",
      "\n",
      "7. **Fold the Omelette:**\n",
      "   - Using the spatula, carefully fold the omelette in half over the fillings. Let it cook for another 30 seconds to 1 minute, depending on how well-done you like your eggs. The residual heat will continue to cook the inside.\n",
      "\n",
      "8. **Plate and Serve:**\n",
      "   - Gently slide the omelette onto a plate. You can garnish it with fresh herbs or additional seasoning if desired. Serve immediately while it’s warm and fluffy.\n",
      "\n",
      "### Tips for Perfection:\n",
      "- **Egg Quality:** Use the freshest eggs you can find for the best flavor and texture.\n",
      "- **Temperature Control:** Cooking on medium-low heat is key to preventing the eggs from browning too much and ensures even cooking.\n",
      "- **Don’t Overfill:** Be cautious with the amount of filling; too much can make it difficult to fold and may lead to a messy omelette.\n",
      "- **Experiment:** Feel free to experiment with different fillings and seasonings to find your perfect combination.\n",
      "\n",
      "With practice, you’ll be able to make a perfect omelette that’s fluffy, flavorful, and tailored to your taste! Enjoy your cooking!\n"
     ]
    }
   ],
   "source": [
    "prompt = \"As a professional chef, explain how to make a perfect omelette.\"\n",
    "response = get_completion(prompt)\n",
    "print(response)"
   ]
  },
  {
   "cell_type": "code",
   "execution_count": 19,
   "id": "bf83e1c9",
   "metadata": {},
   "outputs": [
    {
     "name": "stdout",
     "output_type": "stream",
     "text": [
      "Okay, kiddos! Imagine space is like a big, dark room, and in that room, there are some super strong vacuum cleaners. These vacuum cleaners are called black holes!\n",
      "\n",
      "Now, what makes these vacuum cleaners special is that they are so strong that they can suck up everything around them, even light! That’s why we can’t see them; they’re like invisible vacuum cleaners. \n",
      "\n",
      "When something gets too close to a black hole, it gets pulled in, just like how your toys get sucked up when you turn on a vacuum cleaner. But once something goes in, it can’t come back out! It’s like a one-way door.\n",
      "\n",
      "Black holes are made when really big stars get tired and collapse. They become super tiny but super strong! So, while they might sound a little scary, they are just a part of our amazing universe, and they help us learn more about space!\n",
      "\n",
      "So remember, black holes are like invisible vacuum cleaners in space that can suck up everything around them! Isn’t that cool?\n"
     ]
    }
   ],
   "source": [
    "# Exercise 6: Ask the model to explain a complex topic as if it were a kindergarten teacher.\n",
    "\n",
    "prompt = \" explain black holes as if you were a kindergarten teacher.\"\n",
    "response = get_completion(prompt)\n",
    "print(response)"
   ]
  },
  {
   "cell_type": "markdown",
   "id": "598b87d1",
   "metadata": {},
   "source": [
    "### 8. Few-shot Prompting\n",
    "Provide examples to guide the model's responses."
   ]
  },
  {
   "cell_type": "code",
   "execution_count": 20,
   "id": "6cf6cb5c",
   "metadata": {},
   "outputs": [
    {
     "name": "stdout",
     "output_type": "stream",
     "text": [
      "French: Bonne nuit\n"
     ]
    }
   ],
   "source": [
    "prompt = \"\"\"\n",
    "Translate the following English phrases to French:\n",
    "\n",
    "English: Hello\n",
    "French: Bonjour\n",
    "\n",
    "English: Thank you\n",
    "French: Merci\n",
    "\n",
    "English: Good night\n",
    "French:\n",
    "\"\"\"\n",
    "response = get_completion(prompt)\n",
    "print(response)\n"
   ]
  },
  {
   "cell_type": "markdown",
   "id": "93de00ab",
   "metadata": {},
   "source": [
    "### 9. Chain-of-Thought Prompting\n",
    "Encourage the model to explain its reasoning step by step."
   ]
  },
  {
   "cell_type": "code",
   "execution_count": 21,
   "id": "bfbac816",
   "metadata": {},
   "outputs": [
    {
     "name": "stdout",
     "output_type": "stream",
     "text": [
      "To solve the problem, we first need to understand the rate at which the machines produce widgets.\n",
      "\n",
      "From the information given:\n",
      "- 5 machines take 5 minutes to make 5 widgets.\n",
      "\n",
      "This means that in 5 minutes, each machine produces 1 widget (since 5 machines produce 5 widgets in the same time). Therefore, the rate of production per machine is:\n",
      "\n",
      "\\[\n",
      "\\text{Rate per machine} = \\frac{1 \\text{ widget}}{5 \\text{ minutes}} = 0.2 \\text{ widgets per minute}\n",
      "\\]\n",
      "\n",
      "Now, if we have 100 machines, we can calculate how many widgets they can produce in a minute:\n",
      "\n",
      "\\[\n",
      "\\text{Total rate for 100 machines} = 100 \\text{ machines} \\times 0.2 \\text{ widgets per minute} = 20 \\text{ widgets per minute}\n",
      "\\]\n",
      "\n",
      "Next, we need to find out how long it will take for these 100 machines to produce 100 widgets. We can use the formula:\n",
      "\n",
      "\\[\n",
      "\\text{Time} = \\frac{\\text{Total widgets}}{\\text{Rate of production}}\n",
      "\\]\n",
      "\n",
      "Substituting the values we have:\n",
      "\n",
      "\\[\n",
      "\\text{Time} = \\frac{100 \\text{ widgets}}{20 \\text{ widgets per minute}} = 5 \\text{ minutes}\n",
      "\\]\n",
      "\n",
      "Thus, it would take 100 machines 5 minutes to make 100 widgets.\n"
     ]
    }
   ],
   "source": [
    "prompt = \"If it takes 5 machines 5 minutes to make 5 widgets, how long would it take 100 machines to make 100 widgets? Explain your reasoning.\"\n",
    "response = get_completion(prompt)\n",
    "print(response)"
   ]
  },
  {
   "cell_type": "code",
   "execution_count": 22,
   "id": "8f715782",
   "metadata": {},
   "outputs": [
    {
     "name": "stdout",
     "output_type": "stream",
     "text": [
      "To find the area of a square when given the amount of fencing used to enclose it, we start by understanding that the fencing represents the perimeter of the square.\n",
      "\n",
      "1. **Calculate the perimeter**: The problem states that it takes 100 meters of fencing to enclose the square. Therefore, the perimeter \\( P \\) of the square is 100 meters.\n",
      "\n",
      "2. **Relate perimeter to side length**: The perimeter of a square is calculated using the formula:\n",
      "   \\[\n",
      "   P = 4s\n",
      "   \\]\n",
      "   where \\( s \\) is the length of one side of the square. \n",
      "\n",
      "3. **Solve for side length**: We can rearrange the formula to find the side length:\n",
      "   \\[\n",
      "   s = \\frac{P}{4} = \\frac{100 \\text{ meters}}{4} = 25 \\text{ meters}\n",
      "   \\]\n",
      "\n",
      "4. **Calculate the area**: The area \\( A \\) of a square is given by the formula:\n",
      "   \\[\n",
      "   A = s^2\n",
      "   \\]\n",
      "   Substituting the side length we found:\n",
      "   \\[\n",
      "   A = (25 \\text{ meters})^2 = 625 \\text{ square meters}\n",
      "   \\]\n",
      "\n",
      "Thus, the area of the square is \\( \\boxed{625} \\) square meters.\n"
     ]
    }
   ],
   "source": [
    "# Exercise 8: Pose a different math problem and ask for a step-by-step solution.\n",
    "\n",
    "prompt = \"If it takes 100 meters of fencing to enclose a square, what is the area of the square? Explain your reasoning.\"\n",
    "response = get_completion(prompt)\n",
    "print(response)"
   ]
  },
  {
   "cell_type": "markdown",
   "id": "94d462bf",
   "metadata": {},
   "source": [
    "### 10. System Prompts\n",
    "System prompts allow you to set the behavior and role of the AI model before user interaction. By defining a system message, you can influence how the model responds to subsequent user inputs."
   ]
  },
  {
   "cell_type": "code",
   "execution_count": 23,
   "id": "376bef9f",
   "metadata": {},
   "outputs": [
    {
     "name": "stdout",
     "output_type": "stream",
     "text": [
      "Data privacy is crucial for several reasons:\n",
      "\n",
      "1. **Protection of Personal Information**: It safeguards individuals' personal data from unauthorized access, misuse, or exploitation, ensuring that sensitive information like financial details, health records, and personal identifiers remain confidential.\n",
      "\n",
      "2. **Trust and Reputation**: Organizations that prioritize data privacy build trust with their customers. A strong reputation for protecting data can enhance customer loyalty and attract new clients.\n",
      "\n",
      "3. **Legal Compliance**: Many jurisdictions have laws and regulations (e.g., GDPR, CCPA) that mandate data protection practices. Non-compliance can lead to significant legal penalties and fines.\n",
      "\n",
      "4. **Prevention of Identity Theft**: Effective data privacy measures help prevent identity theft and fraud, protecting individuals from financial loss and emotional distress.\n",
      "\n",
      "5. **Business Continuity**: Data breaches can disrupt business operations. Ensuring data privacy helps mitigate risks associated with data loss and breaches, contributing to overall business resilience.\n",
      "\n",
      "6. **Ethical Responsibility**: Organizations have an ethical obligation to respect individuals' privacy rights and handle their data responsibly, fostering a culture of accountability.\n",
      "\n",
      "7. **Innovation and Growth**: By establishing robust data privacy practices, organizations can leverage data for innovation while maintaining consumer trust, leading to sustainable growth.\n",
      "\n",
      "In summary, data privacy is essential for protecting individuals, maintaining trust, ensuring compliance, and fostering a responsible data-driven environment.\n"
     ]
    }
   ],
   "source": [
    "def get_completion_with_system_prompt(system_prompt, user_prompt, model=\"gpt-4o-mini\"):\n",
    "    messages = [\n",
    "        {\"role\": \"system\", \"content\": system_prompt},\n",
    "        {\"role\": \"user\", \"content\": user_prompt}\n",
    "    ]\n",
    "    response = client.chat.completions.create(\n",
    "        model=model,\n",
    "        messages=messages,\n",
    "        temperature=0,\n",
    "    )\n",
    "    return response.choices[0].message.content\n",
    "\n",
    "# Define the system and user prompts\n",
    "system_prompt = \"You are a helpful assistant that provides concise and accurate information.\"\n",
    "user_prompt = \"Can you explain the importance of data privacy?\"\n",
    "\n",
    "response = get_completion_with_system_prompt(system_prompt, user_prompt)\n",
    "print(response)"
   ]
  },
  {
   "cell_type": "code",
   "execution_count": 24,
   "id": "72165962",
   "metadata": {},
   "outputs": [
    {
     "name": "stdout",
     "output_type": "stream",
     "text": [
      "Absolutely! Data privacy is like wearing pants in public—it's essential for maintaining your dignity and avoiding awkward situations. \n",
      "\n",
      "First off, data privacy protects your personal information from being misused. Imagine if your shopping habits were broadcasted to the world. Suddenly, everyone knows you buy way too many cat videos and questionable snack choices. Not cool!\n",
      "\n",
      "Secondly, it helps prevent identity theft. If someone gets their hands on your personal data, they could impersonate you. Next thing you know, you’re getting bills for a yacht you never bought. Unless you’re secretly a pirate, that’s a problem!\n",
      "\n",
      "Data privacy also builds trust. When companies respect your privacy, it’s like a friend who doesn’t share your embarrassing stories at parties. You’re more likely to stick around and share your secrets—like that time you tried to impress someone by cooking and ended up setting off the smoke alarm.\n",
      "\n",
      "Lastly, in a world where everything is connected, data privacy is crucial for keeping your digital life safe. It’s like having a good security system for your house. You wouldn’t leave your front door wide open, right? Unless you’re trying to attract a raccoon. \n",
      "\n",
      "So, in summary, data privacy is important because it keeps your information safe, prevents identity theft, builds trust, and protects your digital life. Plus, it saves you from the embarrassment of having your snack choices revealed to the world!\n"
     ]
    }
   ],
   "source": [
    "# Exercise 9: Modify the system_prompt to make the assistant respond in a humorous tone. Observe how the responses change.\n",
    "\n",
    "system_prompt = \"You are a comedian and humorous\"\n",
    "user_prompt = \"Can you explain the importance of data privacy?\"\n",
    "\n",
    "response = get_completion_with_system_prompt(system_prompt, user_prompt)\n",
    "print(response)"
   ]
  },
  {
   "cell_type": "markdown",
   "id": "730c7ece",
   "metadata": {},
   "source": [
    "### 11. Utilized prompt\n",
    "how different prompt types—system prompts, user prompts, and assistant prompts—can be utilized in an LLM invocation using the OpenAI API, let's walk through examples in both contexts."
   ]
  },
  {
   "cell_type": "code",
   "execution_count": 25,
   "id": "5e353f9e",
   "metadata": {},
   "outputs": [
    {
     "name": "stdout",
     "output_type": "stream",
     "text": [
      "George Washington took office as the first president of the United States on April 30, 1789.\n"
     ]
    }
   ],
   "source": [
    "# Define the conversation with different roles\n",
    "messages = [\n",
    "    {\"role\": \"system\", \"content\": \"You are a helpful assistant knowledgeable in history.\"},\n",
    "    {\"role\": \"user\", \"content\": \"Who was the first president of the United States?\"},\n",
    "    {\"role\": \"assistant\", \"content\": \"George Washington was the first president of the United States.\"},\n",
    "    {\"role\": \"user\", \"content\": \"When did he take office?\"}\n",
    "]\n",
    "\n",
    "# Get the model's response\n",
    "response = client.chat.completions.create(\n",
    "    model=\"gpt-4o-mini\",\n",
    "    messages=messages,\n",
    "    temperature=0.7,\n",
    ")\n",
    "\n",
    "# Output the assistant's reply\n",
    "print(response.choices[0].message.content)"
   ]
  },
  {
   "cell_type": "markdown",
   "id": "1a9fd137",
   "metadata": {},
   "source": [
    "### 12. Creating an AI Agent\n",
    "An AI agent can perform tasks autonomously based on user instructions. By defining functions and allowing the model to decide when to use them, you can create interactive and functional agents.​\n",
    "\n",
    "Example: AI Agent for Basic Arithmetic"
   ]
  },
  {
   "cell_type": "code",
   "execution_count": 26,
   "id": "1f8f458f",
   "metadata": {},
   "outputs": [
    {
     "name": "stdout",
     "output_type": "stream",
     "text": [
      "8\n"
     ]
    }
   ],
   "source": [
    "import openai\n",
    "import json\n",
    "\n",
    "# Define available functions\n",
    "def add_numbers(a, b):\n",
    "    return a + b\n",
    "\n",
    "def subtract_numbers(a, b):\n",
    "    return a - b\n",
    "\n",
    "# Function to get the model's response\n",
    "def get_agent_response(user_prompt, model=\"gpt-4\"):\n",
    "    messages = [{\"role\": \"user\", \"content\": user_prompt}]\n",
    "    response = client.chat.completions.create(\n",
    "        model=model,\n",
    "        messages=messages,\n",
    "        functions=[\n",
    "            {\n",
    "                \"name\": \"add_numbers\",\n",
    "                \"description\": \"Add two numbers\",\n",
    "                \"parameters\": {\n",
    "                    \"type\": \"object\",\n",
    "                    \"properties\": {\n",
    "                        \"a\": {\"type\": \"number\", \"description\": \"The first number\"},\n",
    "                        \"b\": {\"type\": \"number\", \"description\": \"The second number\"}\n",
    "                    },\n",
    "                    \"required\": [\"a\", \"b\"]\n",
    "                }\n",
    "            },\n",
    "            {\n",
    "                \"name\": \"subtract_numbers\",\n",
    "                \"description\": \"Subtract two numbers\",\n",
    "                \"parameters\": {\n",
    "                    \"type\": \"object\",\n",
    "                    \"properties\": {\n",
    "                        \"a\": {\"type\": \"number\", \"description\": \"The first number\"},\n",
    "                        \"b\": {\"type\": \"number\", \"description\": \"The second number\"}\n",
    "                    },\n",
    "                    \"required\": [\"a\", \"b\"]\n",
    "                }\n",
    "            }\n",
    "        ],\n",
    "        temperature=0,\n",
    "    )\n",
    "\n",
    "    response_message = response.choices[0].message\n",
    "\n",
    "    if response_message.function_call:\n",
    "        function_name = response_message.function_call.name\n",
    "        arguments = json.loads(response_message.function_call.arguments)\n",
    "        if function_name == \"add_numbers\":\n",
    "            result = add_numbers(**arguments)\n",
    "        elif function_name == \"subtract_numbers\":\n",
    "            result = subtract_numbers(**arguments)\n",
    "        else:\n",
    "            result = \"Function not recognized.\"\n",
    "        return result\n",
    "    else:\n",
    "        return response_message.content\n",
    "\n",
    "# Example usage\n",
    "user_prompt = \"What is 15 minus 7?\"\n",
    "response = get_agent_response(user_prompt)\n",
    "print(response)\n"
   ]
  },
  {
   "cell_type": "code",
   "execution_count": 28,
   "id": "acf9c3fa",
   "metadata": {},
   "outputs": [
    {
     "name": "stdout",
     "output_type": "stream",
     "text": [
      "105\n"
     ]
    }
   ],
   "source": [
    "# Exercise 10: Extend the agent by adding a function that multiplies two numbers. Test the agent with prompts that require multiplication.\n",
    "\n",
    "import openai\n",
    "import json\n",
    "\n",
    "# Define available functions\n",
    "def add_numbers(a, b):\n",
    "    return a + b\n",
    "\n",
    "def subtract_numbers(a, b):\n",
    "    return a - b\n",
    "\n",
    "def multiply_numbers(a, b):\n",
    "    return a*b\n",
    "\n",
    "# Function to get the model's response\n",
    "def get_agent_response(user_prompt, model=\"gpt-4\"):\n",
    "    messages = [{\"role\": \"user\", \"content\": user_prompt}]\n",
    "    response = client.chat.completions.create(\n",
    "        model=model,\n",
    "        messages=messages,\n",
    "        functions=[\n",
    "            {\n",
    "                \"name\": \"add_numbers\",\n",
    "                \"description\": \"Add two numbers\",\n",
    "                \"parameters\": {\n",
    "                    \"type\": \"object\",\n",
    "                    \"properties\": {\n",
    "                        \"a\": {\"type\": \"number\", \"description\": \"The first number\"},\n",
    "                        \"b\": {\"type\": \"number\", \"description\": \"The second number\"}\n",
    "                    },\n",
    "                    \"required\": [\"a\", \"b\"]\n",
    "                }\n",
    "            },\n",
    "            {\n",
    "                \"name\": \"subtract_numbers\",\n",
    "                \"description\": \"Subtract two numbers\",\n",
    "                \"parameters\": {\n",
    "                    \"type\": \"object\",\n",
    "                    \"properties\": {\n",
    "                        \"a\": {\"type\": \"number\", \"description\": \"The first number\"},\n",
    "                        \"b\": {\"type\": \"number\", \"description\": \"The second number\"}\n",
    "                    },\n",
    "                    \"required\": [\"a\", \"b\"]\n",
    "                }\n",
    "            },\n",
    "            {\n",
    "                \"name\": \"multiply_numbers\",\n",
    "                \"description\": \"Multiply two numbers\",\n",
    "                \"parameters\": {\n",
    "                    \"type\": \"object\",\n",
    "                    \"properties\": {\n",
    "                        \"a\": {\"type\": \"number\", \"description\": \"The first number\"},\n",
    "                        \"b\": {\"type\": \"number\", \"description\": \"The second number\"}\n",
    "                    },\n",
    "                    \"required\": [\"a\", \"b\"]\n",
    "                }\n",
    "            }\n",
    "        ],\n",
    "        temperature=0,\n",
    "    )\n",
    "\n",
    "    response_message = response.choices[0].message\n",
    "\n",
    "    if response_message.function_call:\n",
    "        function_name = response_message.function_call.name\n",
    "        arguments = json.loads(response_message.function_call.arguments)\n",
    "        if function_name == \"add_numbers\":\n",
    "            result = add_numbers(**arguments)\n",
    "        elif function_name == \"subtract_numbers\":\n",
    "            result = subtract_numbers(**arguments)\n",
    "        elif function_name == \"multiply_numbers\":\n",
    "            result = multiply_numbers(**arguments)\n",
    "        else:\n",
    "            result = \"Function not recognized.\"\n",
    "        return result\n",
    "    else:\n",
    "        return response_message.content\n",
    "\n",
    "# Example usage\n",
    "user_prompt = \"What is 15 multiplied 7?\"\n",
    "response = get_agent_response(user_prompt)\n",
    "print(response)"
   ]
  }
 ],
 "metadata": {
  "kernelspec": {
   "display_name": "Python 3",
   "language": "python",
   "name": "python3"
  },
  "language_info": {
   "codemirror_mode": {
    "name": "ipython",
    "version": 3
   },
   "file_extension": ".py",
   "mimetype": "text/x-python",
   "name": "python",
   "nbconvert_exporter": "python",
   "pygments_lexer": "ipython3",
   "version": "3.12.1"
  }
 },
 "nbformat": 4,
 "nbformat_minor": 5
}
